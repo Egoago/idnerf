{
 "cells": [
  {
   "cell_type": "code",
   "execution_count": 2,
   "outputs": [],
   "source": [
    "import jaxlie\n",
    "\n",
    "import idnerf\n",
    "import jax\n",
    "import os\n",
    "from tqdm import tqdm\n",
    "import json"
   ],
   "metadata": {
    "collapsed": false
   }
  },
  {
   "cell_type": "code",
   "execution_count": 3,
   "metadata": {
    "collapsed": true
   },
   "outputs": [
    {
     "ename": "UnparsedFlagAccessError",
     "evalue": "Trying to access flag --config before flags were parsed.",
     "output_type": "error",
     "traceback": [
      "\u001B[0;31m---------------------------------------------------------------------------\u001B[0m",
      "\u001B[0;31mUnparsedFlagAccessError\u001B[0m                   Traceback (most recent call last)",
      "Cell \u001B[0;32mIn [3], line 1\u001B[0m\n\u001B[0;32m----> 1\u001B[0m idnerf\u001B[38;5;241m.\u001B[39mload_flags()\n\u001B[1;32m      2\u001B[0m rng \u001B[38;5;241m=\u001B[39m jax\u001B[38;5;241m.\u001B[39mrandom\u001B[38;5;241m.\u001B[39mPRNGKey(\u001B[38;5;241m20221031\u001B[39m)\n\u001B[1;32m      4\u001B[0m rgbs \u001B[38;5;241m=\u001B[39m []\n",
      "File \u001B[0;32m/hdd/idnerf/idnerf/base.py:128\u001B[0m, in \u001B[0;36mload_flags\u001B[0;34m()\u001B[0m\n\u001B[1;32m    125\u001B[0m flags\u001B[38;5;241m.\u001B[39mDEFINE_bool(\u001B[38;5;124m\"\u001B[39m\u001B[38;5;124mcoarse_opt\u001B[39m\u001B[38;5;124m\"\u001B[39m, \u001B[38;5;28;01mFalse\u001B[39;00m, \u001B[38;5;124m\"\u001B[39m\u001B[38;5;124m\"\u001B[39m)\n\u001B[1;32m    126\u001B[0m flags\u001B[38;5;241m.\u001B[39mDEFINE_list(\u001B[38;5;124m\"\u001B[39m\u001B[38;5;124mframe_ids\u001B[39m\u001B[38;5;124m\"\u001B[39m, [\u001B[38;5;241m0\u001B[39m], \u001B[38;5;124m\"\u001B[39m\u001B[38;5;124m\"\u001B[39m)\n\u001B[0;32m--> 128\u001B[0m \u001B[38;5;28;01mif\u001B[39;00m \u001B[43mflags\u001B[49m\u001B[38;5;241;43m.\u001B[39;49m\u001B[43mFLAGS\u001B[49m\u001B[38;5;241;43m.\u001B[39;49m\u001B[43mconfig\u001B[49m \u001B[38;5;129;01mis\u001B[39;00m \u001B[38;5;129;01mnot\u001B[39;00m \u001B[38;5;28;01mNone\u001B[39;00m:\n\u001B[1;32m    129\u001B[0m     \u001B[38;5;28;01mfrom\u001B[39;00m \u001B[38;5;21;01mjaxnerf\u001B[39;00m\u001B[38;5;21;01m.\u001B[39;00m\u001B[38;5;21;01mnerf\u001B[39;00m \u001B[38;5;28;01mimport\u001B[39;00m utils\n\u001B[1;32m    130\u001B[0m     utils\u001B[38;5;241m.\u001B[39mupdate_flags(flags\u001B[38;5;241m.\u001B[39mFLAGS)\n",
      "File \u001B[0;32m~/anaconda3/envs/idnerf/lib/python3.8/site-packages/absl/flags/_flagvalues.py:478\u001B[0m, in \u001B[0;36mFlagValues.__getattr__\u001B[0;34m(self, name)\u001B[0m\n\u001B[1;32m    476\u001B[0m   \u001B[38;5;28;01mreturn\u001B[39;00m fl[name]\u001B[38;5;241m.\u001B[39mvalue\n\u001B[1;32m    477\u001B[0m \u001B[38;5;28;01melse\u001B[39;00m:\n\u001B[0;32m--> 478\u001B[0m   \u001B[38;5;28;01mraise\u001B[39;00m _exceptions\u001B[38;5;241m.\u001B[39mUnparsedFlagAccessError(\n\u001B[1;32m    479\u001B[0m       \u001B[38;5;124m'\u001B[39m\u001B[38;5;124mTrying to access flag --\u001B[39m\u001B[38;5;132;01m%s\u001B[39;00m\u001B[38;5;124m before flags were parsed.\u001B[39m\u001B[38;5;124m'\u001B[39m \u001B[38;5;241m%\u001B[39m name)\n",
      "\u001B[0;31mUnparsedFlagAccessError\u001B[0m: Trying to access flag --config before flags were parsed."
     ]
    }
   ],
   "source": [
    "idnerf.load_flags()\n",
    "rng = jax.random.PRNGKey(20221031)\n",
    "\n",
    "rgbs = []\n",
    "depths = []\n",
    "test_id = 100\n",
    "step = 100\n",
    "\n",
    "file_name = os.path.join('results', f'{test_id:06d}-data.json')\n",
    "with open(file_name, \"r\") as fp:\n",
    "    data = json.loads(fp.read())\n",
    "\n",
    "idnerf.base.FLAGS.dataset = data['configs']['dataset']\n",
    "idnerf.base.FLAGS.subset = data['configs']['subset']\n",
    "render_fn = idnerf.load_model(rng)\n",
    "\n",
    "for log_T_pred in tqdm(data['history']['log_T_pred'][::step], desc='Rendering frames', unit='frame'):\n",
    "    rgb, depth = idnerf.render_img(render_fn, jaxlie.SE3.e, data.cam_params, rng)\n",
    "    rgbs.append(np.array(rgb))\n",
    "    depths.append(np.array(depth))\n",
    "    np.save(os.path.join(dir_path, f'{frame.id:03d}_rgb.npy'), np.array(rgb))\n",
    "    np.save(os.path.join(dir_path, f'{frame.id:03d}_depth.npy'), np.array(depth))"
   ]
  },
  {
   "cell_type": "code",
   "execution_count": null,
   "outputs": [],
   "source": [],
   "metadata": {
    "collapsed": false
   }
  }
 ],
 "metadata": {
  "kernelspec": {
   "display_name": "Python 3",
   "language": "python",
   "name": "python3"
  },
  "language_info": {
   "codemirror_mode": {
    "name": "ipython",
    "version": 2
   },
   "file_extension": ".py",
   "mimetype": "text/x-python",
   "name": "python",
   "nbconvert_exporter": "python",
   "pygments_lexer": "ipython2",
   "version": "2.7.6"
  }
 },
 "nbformat": 4,
 "nbformat_minor": 0
}
